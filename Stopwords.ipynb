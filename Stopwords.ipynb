{
 "cells": [
  {
   "cell_type": "code",
   "execution_count": 10,
   "id": "7b91ac7f",
   "metadata": {},
   "outputs": [
    {
     "data": {
      "text/html": [
       "<div>\n",
       "<style scoped>\n",
       "    .dataframe tbody tr th:only-of-type {\n",
       "        vertical-align: middle;\n",
       "    }\n",
       "\n",
       "    .dataframe tbody tr th {\n",
       "        vertical-align: top;\n",
       "    }\n",
       "\n",
       "    .dataframe thead th {\n",
       "        text-align: right;\n",
       "    }\n",
       "</style>\n",
       "<table border=\"1\" class=\"dataframe\">\n",
       "  <thead>\n",
       "    <tr style=\"text-align: right;\">\n",
       "      <th></th>\n",
       "      <th>Unnamed: 0</th>\n",
       "      <th>username</th>\n",
       "      <th>name</th>\n",
       "      <th>tweet</th>\n",
       "    </tr>\n",
       "  </thead>\n",
       "  <tbody>\n",
       "    <tr>\n",
       "      <th>0</th>\n",
       "      <td>0</td>\n",
       "      <td>realsmithj</td>\n",
       "      <td>Jason Smith</td>\n",
       "      <td>@BrockWHarrison @RachelNotley Remember that ti...</td>\n",
       "    </tr>\n",
       "    <tr>\n",
       "      <th>1</th>\n",
       "      <td>1</td>\n",
       "      <td>theabcsofmissv</td>\n",
       "      <td>Taylor Vollstedt</td>\n",
       "      <td>TOGETHER WE CAN become Masters of Education th...</td>\n",
       "    </tr>\n",
       "    <tr>\n",
       "      <th>2</th>\n",
       "      <td>2</td>\n",
       "      <td>mcola34</td>\n",
       "      <td>mia</td>\n",
       "      <td>@MikeCarlton01 Wow.We are doing well on the gl...</td>\n",
       "    </tr>\n",
       "    <tr>\n",
       "      <th>3</th>\n",
       "      <td>3</td>\n",
       "      <td>ric4100</td>\n",
       "      <td>Ric Paul</td>\n",
       "      <td>Thank God Florida had @GovRonDeSantis as the G...</td>\n",
       "    </tr>\n",
       "    <tr>\n",
       "      <th>4</th>\n",
       "      <td>4</td>\n",
       "      <td>janicekayephd</td>\n",
       "      <td>Janice Kaye🇨🇦 Ph.D.🇺🇸 Vax💉💉💉Mask😷 🇺🇦 🟩</td>\n",
       "      <td>Needs an education in how the virus is spread....</td>\n",
       "    </tr>\n",
       "    <tr>\n",
       "      <th>...</th>\n",
       "      <td>...</td>\n",
       "      <td>...</td>\n",
       "      <td>...</td>\n",
       "      <td>...</td>\n",
       "    </tr>\n",
       "    <tr>\n",
       "      <th>5266</th>\n",
       "      <td>6241</td>\n",
       "      <td>phkule</td>\n",
       "      <td>Philippine Collegian</td>\n",
       "      <td>Del Mundo (chair, UP Alyansa): We will continu...</td>\n",
       "    </tr>\n",
       "    <tr>\n",
       "      <th>5267</th>\n",
       "      <td>6242</td>\n",
       "      <td>uobedresearch</td>\n",
       "      <td>Education Research at Birmingham</td>\n",
       "      <td>#FridayEdArchive #EdResearch2021 Hall, Byrne ,...</td>\n",
       "    </tr>\n",
       "    <tr>\n",
       "      <th>5268</th>\n",
       "      <td>6243</td>\n",
       "      <td>friedbergeric</td>\n",
       "      <td>Eric Friedberg MD</td>\n",
       "      <td>COVID-19 &amp;amp; virtual medical student educati...</td>\n",
       "    </tr>\n",
       "    <tr>\n",
       "      <th>5269</th>\n",
       "      <td>6244</td>\n",
       "      <td>moms4edfreedom</td>\n",
       "      <td>Moms for #EducationFreedom</td>\n",
       "      <td>#BREAKING: Office for Civil Rights Reaches Res...</td>\n",
       "    </tr>\n",
       "    <tr>\n",
       "      <th>5270</th>\n",
       "      <td>6245</td>\n",
       "      <td>dijahjawo</td>\n",
       "      <td>_____Dijah</td>\n",
       "      <td>So heartbreaking, a year has gone by without j...</td>\n",
       "    </tr>\n",
       "  </tbody>\n",
       "</table>\n",
       "<p>5271 rows × 4 columns</p>\n",
       "</div>"
      ],
      "text/plain": [
       "      Unnamed: 0        username                                    name  \\\n",
       "0              0      realsmithj                             Jason Smith   \n",
       "1              1  theabcsofmissv                        Taylor Vollstedt   \n",
       "2              2         mcola34                                     mia   \n",
       "3              3         ric4100                                Ric Paul   \n",
       "4              4   janicekayephd  Janice Kaye🇨🇦 Ph.D.🇺🇸 Vax💉💉💉Mask😷 🇺🇦 🟩   \n",
       "...          ...             ...                                     ...   \n",
       "5266        6241          phkule                    Philippine Collegian   \n",
       "5267        6242   uobedresearch        Education Research at Birmingham   \n",
       "5268        6243   friedbergeric                       Eric Friedberg MD   \n",
       "5269        6244  moms4edfreedom              Moms for #EducationFreedom   \n",
       "5270        6245       dijahjawo                              _____Dijah   \n",
       "\n",
       "                                                  tweet  \n",
       "0     @BrockWHarrison @RachelNotley Remember that ti...  \n",
       "1     TOGETHER WE CAN become Masters of Education th...  \n",
       "2     @MikeCarlton01 Wow.We are doing well on the gl...  \n",
       "3     Thank God Florida had @GovRonDeSantis as the G...  \n",
       "4     Needs an education in how the virus is spread....  \n",
       "...                                                 ...  \n",
       "5266  Del Mundo (chair, UP Alyansa): We will continu...  \n",
       "5267  #FridayEdArchive #EdResearch2021 Hall, Byrne ,...  \n",
       "5268  COVID-19 &amp; virtual medical student educati...  \n",
       "5269  #BREAKING: Office for Civil Rights Reaches Res...  \n",
       "5270  So heartbreaking, a year has gone by without j...  \n",
       "\n",
       "[5271 rows x 4 columns]"
      ]
     },
     "execution_count": 10,
     "metadata": {},
     "output_type": "execute_result"
    }
   ],
   "source": [
    "pd.read_csv('Covid19Education_tweets_final.csv')"
   ]
  },
  {
   "cell_type": "code",
   "execution_count": 11,
   "id": "0bd65725",
   "metadata": {},
   "outputs": [],
   "source": [
    "df2 = pd.read_csv('Covid19Education_tweets_final.csv')"
   ]
  },
  {
   "cell_type": "code",
   "execution_count": 12,
   "id": "a5c49c7e",
   "metadata": {},
   "outputs": [
    {
     "data": {
      "text/plain": [
       "True"
      ]
     },
     "execution_count": 12,
     "metadata": {},
     "output_type": "execute_result"
    }
   ],
   "source": [
    "df2.isnull().any().any()"
   ]
  },
  {
   "cell_type": "code",
   "execution_count": 17,
   "id": "67055b96",
   "metadata": {},
   "outputs": [
    {
     "name": "stdout",
     "output_type": "stream",
     "text": [
      "<class 'pandas.core.frame.DataFrame'>\n",
      "RangeIndex: 5271 entries, 0 to 5270\n",
      "Data columns (total 4 columns):\n",
      " #   Column      Non-Null Count  Dtype \n",
      "---  ------      --------------  ----- \n",
      " 0   Unnamed: 0  5271 non-null   int64 \n",
      " 1   username    5271 non-null   object\n",
      " 2   name        5270 non-null   object\n",
      " 3   tweet       5271 non-null   object\n",
      "dtypes: int64(1), object(3)\n",
      "memory usage: 164.8+ KB\n"
     ]
    }
   ],
   "source": [
    "df2.info(null_counts=True)"
   ]
  },
  {
   "cell_type": "code",
   "execution_count": 14,
   "id": "6f2e6a37",
   "metadata": {},
   "outputs": [],
   "source": [
    "df_new=df2[df2['tweet'].notnull()]"
   ]
  },
  {
   "cell_type": "code",
   "execution_count": 15,
   "id": "3fc47f73",
   "metadata": {},
   "outputs": [
    {
     "name": "stdout",
     "output_type": "stream",
     "text": [
      "<class 'pandas.core.frame.DataFrame'>\n",
      "Int64Index: 5271 entries, 0 to 5270\n",
      "Data columns (total 4 columns):\n",
      " #   Column      Non-Null Count  Dtype \n",
      "---  ------      --------------  ----- \n",
      " 0   Unnamed: 0  5271 non-null   int64 \n",
      " 1   username    5271 non-null   object\n",
      " 2   name        5270 non-null   object\n",
      " 3   tweet       5271 non-null   object\n",
      "dtypes: int64(1), object(3)\n",
      "memory usage: 205.9+ KB\n"
     ]
    }
   ],
   "source": [
    "df_new.info(null_counts=True)"
   ]
  },
  {
   "cell_type": "code",
   "execution_count": 18,
   "id": "80062417",
   "metadata": {},
   "outputs": [
    {
     "data": {
      "text/plain": [
       "True"
      ]
     },
     "execution_count": 18,
     "metadata": {},
     "output_type": "execute_result"
    }
   ],
   "source": [
    "df_new.isnull().any().any()"
   ]
  },
  {
   "cell_type": "code",
   "execution_count": 32,
   "id": "be014fba",
   "metadata": {},
   "outputs": [],
   "source": [
    "df_new['NewTweet'] = df_new['tweet'].str.lower().str.split() \n",
    "df_new['NewTweet'] = df_new['NewTweet'].apply(lambda x : [item for item in x if item not in stop]) "
   ]
  },
  {
   "cell_type": "code",
   "execution_count": 33,
   "id": "e1f16b50",
   "metadata": {},
   "outputs": [
    {
     "data": {
      "text/html": [
       "<div>\n",
       "<style scoped>\n",
       "    .dataframe tbody tr th:only-of-type {\n",
       "        vertical-align: middle;\n",
       "    }\n",
       "\n",
       "    .dataframe tbody tr th {\n",
       "        vertical-align: top;\n",
       "    }\n",
       "\n",
       "    .dataframe thead th {\n",
       "        text-align: right;\n",
       "    }\n",
       "</style>\n",
       "<table border=\"1\" class=\"dataframe\">\n",
       "  <thead>\n",
       "    <tr style=\"text-align: right;\">\n",
       "      <th></th>\n",
       "      <th>Unnamed: 0</th>\n",
       "      <th>username</th>\n",
       "      <th>name</th>\n",
       "      <th>tweet</th>\n",
       "      <th>NewReviews</th>\n",
       "      <th>NewTweet</th>\n",
       "    </tr>\n",
       "  </thead>\n",
       "  <tbody>\n",
       "    <tr>\n",
       "      <th>0</th>\n",
       "      <td>0</td>\n",
       "      <td>realsmithj</td>\n",
       "      <td>Jason Smith</td>\n",
       "      <td>@BrockWHarrison @RachelNotley Remember that ti...</td>\n",
       "      <td>[@brockwharrison, @rachelnotley, remember, tha...</td>\n",
       "      <td>[@brockwharrison, @rachelnotley, remember, tim...</td>\n",
       "    </tr>\n",
       "    <tr>\n",
       "      <th>1</th>\n",
       "      <td>1</td>\n",
       "      <td>theabcsofmissv</td>\n",
       "      <td>Taylor Vollstedt</td>\n",
       "      <td>TOGETHER WE CAN become Masters of Education th...</td>\n",
       "      <td>[together, we, can, become, masters, of, educa...</td>\n",
       "      <td>[together, become, masters, education, global,...</td>\n",
       "    </tr>\n",
       "    <tr>\n",
       "      <th>2</th>\n",
       "      <td>2</td>\n",
       "      <td>mcola34</td>\n",
       "      <td>mia</td>\n",
       "      <td>@MikeCarlton01 Wow.We are doing well on the gl...</td>\n",
       "      <td>[@mikecarlton01, wow.we, are, doing, well, on,...</td>\n",
       "      <td>[@mikecarlton01, wow.we, well, global, stage.,...</td>\n",
       "    </tr>\n",
       "    <tr>\n",
       "      <th>3</th>\n",
       "      <td>3</td>\n",
       "      <td>ric4100</td>\n",
       "      <td>Ric Paul</td>\n",
       "      <td>Thank God Florida had @GovRonDeSantis as the G...</td>\n",
       "      <td>[thank, god, florida, had, @govrondesantis, as...</td>\n",
       "      <td>[thank, god, florida, @govrondesantis, governo...</td>\n",
       "    </tr>\n",
       "    <tr>\n",
       "      <th>4</th>\n",
       "      <td>4</td>\n",
       "      <td>janicekayephd</td>\n",
       "      <td>Janice Kaye🇨🇦 Ph.D.🇺🇸 Vax💉💉💉Mask😷 🇺🇦 🟩</td>\n",
       "      <td>Needs an education in how the virus is spread....</td>\n",
       "      <td>[needs, an, education, in, how, the, virus, is...</td>\n",
       "      <td>[needs, education, virus, spread., heard, cons...</td>\n",
       "    </tr>\n",
       "  </tbody>\n",
       "</table>\n",
       "</div>"
      ],
      "text/plain": [
       "   Unnamed: 0        username                                    name  \\\n",
       "0           0      realsmithj                             Jason Smith   \n",
       "1           1  theabcsofmissv                        Taylor Vollstedt   \n",
       "2           2         mcola34                                     mia   \n",
       "3           3         ric4100                                Ric Paul   \n",
       "4           4   janicekayephd  Janice Kaye🇨🇦 Ph.D.🇺🇸 Vax💉💉💉Mask😷 🇺🇦 🟩   \n",
       "\n",
       "                                               tweet  \\\n",
       "0  @BrockWHarrison @RachelNotley Remember that ti...   \n",
       "1  TOGETHER WE CAN become Masters of Education th...   \n",
       "2  @MikeCarlton01 Wow.We are doing well on the gl...   \n",
       "3  Thank God Florida had @GovRonDeSantis as the G...   \n",
       "4  Needs an education in how the virus is spread....   \n",
       "\n",
       "                                          NewReviews  \\\n",
       "0  [@brockwharrison, @rachelnotley, remember, tha...   \n",
       "1  [together, we, can, become, masters, of, educa...   \n",
       "2  [@mikecarlton01, wow.we, are, doing, well, on,...   \n",
       "3  [thank, god, florida, had, @govrondesantis, as...   \n",
       "4  [needs, an, education, in, how, the, virus, is...   \n",
       "\n",
       "                                            NewTweet  \n",
       "0  [@brockwharrison, @rachelnotley, remember, tim...  \n",
       "1  [together, become, masters, education, global,...  \n",
       "2  [@mikecarlton01, wow.we, well, global, stage.,...  \n",
       "3  [thank, god, florida, @govrondesantis, governo...  \n",
       "4  [needs, education, virus, spread., heard, cons...  "
      ]
     },
     "execution_count": 33,
     "metadata": {},
     "output_type": "execute_result"
    }
   ],
   "source": [
    "df_new.head()"
   ]
  },
  {
   "cell_type": "code",
   "execution_count": 39,
   "id": "b19085bf",
   "metadata": {},
   "outputs": [],
   "source": [
    "df_new.drop(['Unnamed: 0','NewReviews'],axis = 1, inplace = True)"
   ]
  },
  {
   "cell_type": "code",
   "execution_count": 40,
   "id": "b61cbc56",
   "metadata": {},
   "outputs": [
    {
     "data": {
      "text/html": [
       "<div>\n",
       "<style scoped>\n",
       "    .dataframe tbody tr th:only-of-type {\n",
       "        vertical-align: middle;\n",
       "    }\n",
       "\n",
       "    .dataframe tbody tr th {\n",
       "        vertical-align: top;\n",
       "    }\n",
       "\n",
       "    .dataframe thead th {\n",
       "        text-align: right;\n",
       "    }\n",
       "</style>\n",
       "<table border=\"1\" class=\"dataframe\">\n",
       "  <thead>\n",
       "    <tr style=\"text-align: right;\">\n",
       "      <th></th>\n",
       "      <th>username</th>\n",
       "      <th>name</th>\n",
       "      <th>tweet</th>\n",
       "      <th>NewTweet</th>\n",
       "    </tr>\n",
       "  </thead>\n",
       "  <tbody>\n",
       "    <tr>\n",
       "      <th>0</th>\n",
       "      <td>realsmithj</td>\n",
       "      <td>Jason Smith</td>\n",
       "      <td>@BrockWHarrison @RachelNotley Remember that ti...</td>\n",
       "      <td>[@brockwharrison, @rachelnotley, remember, tim...</td>\n",
       "    </tr>\n",
       "    <tr>\n",
       "      <th>1</th>\n",
       "      <td>theabcsofmissv</td>\n",
       "      <td>Taylor Vollstedt</td>\n",
       "      <td>TOGETHER WE CAN become Masters of Education th...</td>\n",
       "      <td>[together, become, masters, education, global,...</td>\n",
       "    </tr>\n",
       "    <tr>\n",
       "      <th>2</th>\n",
       "      <td>mcola34</td>\n",
       "      <td>mia</td>\n",
       "      <td>@MikeCarlton01 Wow.We are doing well on the gl...</td>\n",
       "      <td>[@mikecarlton01, wow.we, well, global, stage.,...</td>\n",
       "    </tr>\n",
       "    <tr>\n",
       "      <th>3</th>\n",
       "      <td>ric4100</td>\n",
       "      <td>Ric Paul</td>\n",
       "      <td>Thank God Florida had @GovRonDeSantis as the G...</td>\n",
       "      <td>[thank, god, florida, @govrondesantis, governo...</td>\n",
       "    </tr>\n",
       "    <tr>\n",
       "      <th>4</th>\n",
       "      <td>janicekayephd</td>\n",
       "      <td>Janice Kaye🇨🇦 Ph.D.🇺🇸 Vax💉💉💉Mask😷 🇺🇦 🟩</td>\n",
       "      <td>Needs an education in how the virus is spread....</td>\n",
       "      <td>[needs, education, virus, spread., heard, cons...</td>\n",
       "    </tr>\n",
       "  </tbody>\n",
       "</table>\n",
       "</div>"
      ],
      "text/plain": [
       "         username                                    name  \\\n",
       "0      realsmithj                             Jason Smith   \n",
       "1  theabcsofmissv                        Taylor Vollstedt   \n",
       "2         mcola34                                     mia   \n",
       "3         ric4100                                Ric Paul   \n",
       "4   janicekayephd  Janice Kaye🇨🇦 Ph.D.🇺🇸 Vax💉💉💉Mask😷 🇺🇦 🟩   \n",
       "\n",
       "                                               tweet  \\\n",
       "0  @BrockWHarrison @RachelNotley Remember that ti...   \n",
       "1  TOGETHER WE CAN become Masters of Education th...   \n",
       "2  @MikeCarlton01 Wow.We are doing well on the gl...   \n",
       "3  Thank God Florida had @GovRonDeSantis as the G...   \n",
       "4  Needs an education in how the virus is spread....   \n",
       "\n",
       "                                            NewTweet  \n",
       "0  [@brockwharrison, @rachelnotley, remember, tim...  \n",
       "1  [together, become, masters, education, global,...  \n",
       "2  [@mikecarlton01, wow.we, well, global, stage.,...  \n",
       "3  [thank, god, florida, @govrondesantis, governo...  \n",
       "4  [needs, education, virus, spread., heard, cons...  "
      ]
     },
     "execution_count": 40,
     "metadata": {},
     "output_type": "execute_result"
    }
   ],
   "source": [
    "df_new.head()\n"
   ]
  },
  {
   "cell_type": "code",
   "execution_count": 41,
   "id": "ad5146ed",
   "metadata": {},
   "outputs": [],
   "source": [
    "export_csv = df_new.to_csv(r'Covid19_Education.csv')"
   ]
  },
  {
   "cell_type": "code",
   "execution_count": null,
   "id": "c82556d8",
   "metadata": {},
   "outputs": [],
   "source": []
  }
 ],
 "metadata": {
  "kernelspec": {
   "display_name": "Python 3 (ipykernel)",
   "language": "python",
   "name": "python3"
  },
  "language_info": {
   "codemirror_mode": {
    "name": "ipython",
    "version": 3
   },
   "file_extension": ".py",
   "mimetype": "text/x-python",
   "name": "python",
   "nbconvert_exporter": "python",
   "pygments_lexer": "ipython3",
   "version": "3.9.7"
  }
 },
 "nbformat": 4,
 "nbformat_minor": 5
}
